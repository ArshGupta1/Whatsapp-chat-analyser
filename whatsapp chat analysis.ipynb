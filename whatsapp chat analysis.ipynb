{
 "cells": [
  {
   "cell_type": "code",
   "execution_count": null,
   "id": "5ccf52a5",
   "metadata": {},
   "outputs": [],
   "source": [
    "import re \n",
    "import pandas as pd"
   ]
  },
  {
   "cell_type": "code",
   "execution_count": null,
   "id": "b321efd1",
   "metadata": {},
   "outputs": [],
   "source": [
    "f=open('file name')"
   ]
  },
  {
   "cell_type": "code",
   "execution_count": null,
   "id": "5f06cfb7",
   "metadata": {},
   "outputs": [],
   "source": [
    "data=f.read()"
   ]
  },
  {
   "cell_type": "code",
   "execution_count": null,
   "id": "c18f0f47",
   "metadata": {},
   "outputs": [],
   "source": [
    "print(data)"
   ]
  },
  {
   "cell_type": "code",
   "execution_count": null,
   "id": "0eafd23b",
   "metadata": {},
   "outputs": [],
   "source": [
    "pattern='\\d{2}/\\d{2}/\\d{2},\\s\\d{1,2}:\\d{2}\\s[ap]m\\s-\\s'"
   ]
  },
  {
   "cell_type": "code",
   "execution_count": null,
   "id": "065f3901",
   "metadata": {},
   "outputs": [],
   "source": [
    "messages=re.split(pattern,data)[1:]\n",
    "messages"
   ]
  },
  {
   "cell_type": "code",
   "execution_count": null,
   "id": "4295bca0",
   "metadata": {},
   "outputs": [],
   "source": [
    "dates=re.findall(pattern,data)\n",
    "dates"
   ]
  },
  {
   "cell_type": "code",
   "execution_count": null,
   "id": "34810a69",
   "metadata": {},
   "outputs": [],
   "source": [
    "df=pd.DataFrame({'user_message':messages,'message_date':dates})\n",
    "#convert message_date type\n",
    "df['message_date']=pd.to_datetime(df['message_date'], format='%d/%m/%y, %I:%M\\u202f%p - ')\n",
    "df.rename(columns={'message_date': 'date'},inplace=True)\n",
    "df.head()"
   ]
  },
  {
   "cell_type": "code",
   "execution_count": null,
   "id": "d988e4cf",
   "metadata": {},
   "outputs": [],
   "source": [
    "df.shape"
   ]
  },
  {
   "cell_type": "code",
   "execution_count": null,
   "id": "debf2f55",
   "metadata": {},
   "outputs": [],
   "source": [
    "# separate users and messages\n",
    "users=[]\n",
    "messages=[]\n",
    "for message in df['user_message']:\n",
    "    entry=re.split('([\\w\\W]+?):\\s',message)\n",
    "    if entry[1:]: #user name\n",
    "        users.append(entry[1])\n",
    "        messages.append(entry[2])\n",
    "    else:\n",
    "        users.append('group_notification')\n",
    "        messages.append(entry[0])\n",
    "df['user']=users\n",
    "df['message']=messages\n",
    "df.drop(columns=['user_message'],inplace=True)\n",
    "df.head()"
   ]
  },
  {
   "cell_type": "code",
   "execution_count": null,
   "id": "df84949d",
   "metadata": {},
   "outputs": [],
   "source": [
    "df['year']=df['date'].dt.year"
   ]
  },
  {
   "cell_type": "code",
   "execution_count": null,
   "id": "c6136452",
   "metadata": {},
   "outputs": [],
   "source": [
    "df.head()"
   ]
  },
  {
   "cell_type": "code",
   "execution_count": null,
   "id": "de0c5c92",
   "metadata": {},
   "outputs": [],
   "source": [
    "df['month']=df['date'].dt.month_name()"
   ]
  },
  {
   "cell_type": "code",
   "execution_count": null,
   "id": "95e196a3",
   "metadata": {},
   "outputs": [],
   "source": [
    "df.head()"
   ]
  },
  {
   "cell_type": "code",
   "execution_count": null,
   "id": "07c16f70",
   "metadata": {},
   "outputs": [],
   "source": [
    "df['day']=df['date'].dt.day"
   ]
  },
  {
   "cell_type": "code",
   "execution_count": null,
   "id": "a8381f6d",
   "metadata": {},
   "outputs": [],
   "source": [
    "df['hour']=df['date'].dt.hour"
   ]
  },
  {
   "cell_type": "code",
   "execution_count": null,
   "id": "57f86b92",
   "metadata": {},
   "outputs": [],
   "source": [
    "df['minute']=df['date'].dt.minute"
   ]
  },
  {
   "cell_type": "code",
   "execution_count": null,
   "id": "77f20727",
   "metadata": {},
   "outputs": [],
   "source": [
    "df.head()"
   ]
  },
  {
   "cell_type": "code",
   "execution_count": null,
   "id": "a0d2d44b",
   "metadata": {},
   "outputs": [],
   "source": [
    "df[df['user']=='Arsh Gupta'].shape"
   ]
  },
  {
   "cell_type": "code",
   "execution_count": null,
   "id": "a8f616e3",
   "metadata": {},
   "outputs": [],
   "source": [
    "words=[]\n",
    "for message in df['message']:\n",
    "    words.extend(message.split())\n",
    "    print(message)"
   ]
  },
  {
   "cell_type": "code",
   "execution_count": null,
   "id": "4f926fac",
   "metadata": {},
   "outputs": [],
   "source": [
    "!pip install urlextract\n",
    "from urlextract import URLExtract\n",
    "extractor =URLExtract()\n",
    "urls=extractor.find_urls(\"Let's www.gmail.com have URL stackoverflow.com as an example google.com,http://facebook.com\")\n",
    "links=[]\n",
    "\n",
    "for message in df['message']:\n",
    "    links.extend(extractor.find_urls(message))"
   ]
  },
  {
   "cell_type": "code",
   "execution_count": null,
   "id": "4ec847a2",
   "metadata": {},
   "outputs": [],
   "source": [
    "links=[]\n",
    "\n",
    "for message in df['message']:\n",
    "    links.extend(extractor.find_urls(message))"
   ]
  },
  {
   "cell_type": "code",
   "execution_count": null,
   "id": "88243af0",
   "metadata": {},
   "outputs": [],
   "source": [
    "len(links)"
   ]
  },
  {
   "cell_type": "code",
   "execution_count": null,
   "id": "556a0651",
   "metadata": {},
   "outputs": [],
   "source": [
    "x=df['user'].value_counts().head()"
   ]
  },
  {
   "cell_type": "code",
   "execution_count": null,
   "id": "1dd5aaa1",
   "metadata": {},
   "outputs": [],
   "source": [
    "import matplotlib.pyplot as plt"
   ]
  },
  {
   "cell_type": "code",
   "execution_count": null,
   "id": "9a3732b9",
   "metadata": {},
   "outputs": [],
   "source": [
    "name=x.index\n",
    "count=x.values\n",
    "plt.bar(name,count)\n",
    "plt.xticks(rotation='vertical')\n",
    "plt.show()"
   ]
  },
  {
   "cell_type": "code",
   "execution_count": null,
   "id": "e15e5df4",
   "metadata": {},
   "outputs": [],
   "source": [
    "round((df['user'].value_counts()/df.shape[0])*100,2).reset_index().rename(columns={'index':'name','user':'percent'})"
   ]
  },
  {
   "cell_type": "code",
   "execution_count": null,
   "id": "cd1b310f",
   "metadata": {},
   "outputs": [],
   "source": [
    "# top 25 words used in a group\n"
   ]
  },
  {
   "cell_type": "code",
   "execution_count": null,
   "id": "2ec066d1",
   "metadata": {},
   "outputs": [],
   "source": [
    "words=[]\n",
    "for message in df['message']:\n",
    "    words.extend(message.split())"
   ]
  },
  {
   "cell_type": "code",
   "execution_count": null,
   "id": "6cd8d168",
   "metadata": {},
   "outputs": [],
   "source": [
    "temp=df[df['user']!='group_notification']\n",
    "temp=temp[temp['message'] != '<Media omitted>\\n']"
   ]
  },
  {
   "cell_type": "code",
   "execution_count": null,
   "id": "cd0f1ae2",
   "metadata": {},
   "outputs": [],
   "source": [
    "f=open('stop_hinglish.txt','r')\n",
    "stop_words=f.read()\n",
    "print(stop_words)"
   ]
  },
  {
   "cell_type": "code",
   "execution_count": null,
   "id": "140dc618",
   "metadata": {},
   "outputs": [],
   "source": [
    "words=[]\n",
    "for message in temp['message']:\n",
    "    for word in message.lower().split():\n",
    "        if word not in stop_words:\n",
    "            words.append(word)"
   ]
  },
  {
   "cell_type": "code",
   "execution_count": null,
   "id": "0a91f0ec",
   "metadata": {},
   "outputs": [],
   "source": []
  },
  {
   "cell_type": "code",
   "execution_count": null,
   "id": "9f03c0cb",
   "metadata": {},
   "outputs": [],
   "source": []
  },
  {
   "cell_type": "code",
   "execution_count": null,
   "id": "39920cde",
   "metadata": {},
   "outputs": [],
   "source": []
  },
  {
   "cell_type": "code",
   "execution_count": null,
   "id": "1b90d116",
   "metadata": {},
   "outputs": [],
   "source": [
    "from collections import Counter\n",
    "pd.DataFrame(Counter(words).most_common(20))"
   ]
  },
  {
   "cell_type": "code",
   "execution_count": null,
   "id": "50e93178",
   "metadata": {},
   "outputs": [],
   "source": [
    "# remove media omitted message\n",
    "#remove group message\n",
    "#remove stop words"
   ]
  },
  {
   "cell_type": "code",
   "execution_count": null,
   "id": "18b6bf53",
   "metadata": {},
   "outputs": [],
   "source": [
    "!pip install emoji"
   ]
  },
  {
   "cell_type": "code",
   "execution_count": null,
   "id": "2eff1546",
   "metadata": {},
   "outputs": [],
   "source": [
    "import emoji"
   ]
  },
  {
   "cell_type": "code",
   "execution_count": null,
   "id": "f1362171",
   "metadata": {},
   "outputs": [],
   "source": [
    "emojis=[]\n",
    "for message in df['message']:\n",
    "    emojis.extend([c for c in message if c in emoji.UNICODE_EMOJI['en']])"
   ]
  },
  {
   "cell_type": "code",
   "execution_count": null,
   "id": "b0e3c2ea",
   "metadata": {},
   "outputs": [],
   "source": [
    "import emoji\n",
    "\n",
    "emojis = []\n",
    "for message in df['message']:\n",
    "    emojis.extend([c for c in message if c in emoji.UNICODE_EMOJI])\n",
    "pd.DataFrame(Counter(emojis).most_common(len(Counter(emojis))))"
   ]
  },
  {
   "cell_type": "code",
   "execution_count": null,
   "id": "a5e51c54",
   "metadata": {},
   "outputs": [],
   "source": [
    "import emoji\n",
    "\n",
    "emojis = []\n",
    "for message in df['message']:\n",
    "    for c in message:\n",
    "        if any(char in emoji.UNICODE_EMOJI_ENGLISH for char in emoji.demojize(c)):\n",
    "            emojis.append(c)"
   ]
  },
  {
   "cell_type": "code",
   "execution_count": null,
   "id": "19bd3a1e",
   "metadata": {},
   "outputs": [],
   "source": [
    "import re \n",
    "import pandas as pd"
   ]
  },
  {
   "cell_type": "code",
   "execution_count": null,
   "id": "a941dcb2",
   "metadata": {},
   "outputs": [],
   "source": [
    "!pip install emoji"
   ]
  },
  {
   "cell_type": "code",
   "execution_count": null,
   "id": "f6ac5754",
   "metadata": {},
   "outputs": [],
   "source": [
    "import emoji"
   ]
  },
  {
   "cell_type": "code",
   "execution_count": null,
   "id": "a2709ca4",
   "metadata": {},
   "outputs": [],
   "source": [
    "emojis=[]\n",
    "for message in df['message']:\n",
    "    emojis.extend([c for c in message if c in emoji.UNICODE_EMOJI['en']])"
   ]
  },
  {
   "cell_type": "code",
   "execution_count": null,
   "id": "254e1140",
   "metadata": {},
   "outputs": [],
   "source": [
    "df['month_num']=df['date'].dt.month"
   ]
  },
  {
   "cell_type": "code",
   "execution_count": null,
   "id": "cdb869a6",
   "metadata": {},
   "outputs": [],
   "source": [
    "df"
   ]
  },
  {
   "cell_type": "code",
   "execution_count": null,
   "id": "324e97d1",
   "metadata": {},
   "outputs": [],
   "source": [
    "timeline=df.groupby(['year','month_num','month']).count()['message'].reset_index()"
   ]
  },
  {
   "cell_type": "code",
   "execution_count": null,
   "id": "fcae1e68",
   "metadata": {},
   "outputs": [],
   "source": [
    "timeline"
   ]
  },
  {
   "cell_type": "code",
   "execution_count": null,
   "id": "4a322362",
   "metadata": {},
   "outputs": [],
   "source": [
    "for i in range(timeline.shape[0]):\n",
    "    print(i)"
   ]
  },
  {
   "cell_type": "code",
   "execution_count": null,
   "id": "d927bd13",
   "metadata": {},
   "outputs": [],
   "source": [
    "for i in range(timeline.shape[0]):\n",
    "    print(timeline['month'][i])"
   ]
  },
  {
   "cell_type": "code",
   "execution_count": null,
   "id": "ba394cec",
   "metadata": {},
   "outputs": [],
   "source": [
    "time=[]\n",
    "for i in range(timeline.shape[0]):\n",
    "    time.append(timeline['month'][i]+\"-\"+str(timeline['year'][i]))"
   ]
  },
  {
   "cell_type": "code",
   "execution_count": null,
   "id": "17a2a33e",
   "metadata": {},
   "outputs": [],
   "source": [
    "time"
   ]
  },
  {
   "cell_type": "code",
   "execution_count": null,
   "id": "82ca0abc",
   "metadata": {},
   "outputs": [],
   "source": [
    "timeline['time']=time"
   ]
  },
  {
   "cell_type": "code",
   "execution_count": null,
   "id": "de79c3c5",
   "metadata": {},
   "outputs": [],
   "source": [
    "timeline"
   ]
  },
  {
   "cell_type": "code",
   "execution_count": null,
   "id": "93cff5c1",
   "metadata": {},
   "outputs": [],
   "source": [
    "plt.plot(timeline['time'],timeline['message'])"
   ]
  },
  {
   "cell_type": "code",
   "execution_count": null,
   "id": "fcecd9f9",
   "metadata": {},
   "outputs": [],
   "source": [
    "df['date'].dt.date"
   ]
  },
  {
   "cell_type": "code",
   "execution_count": null,
   "id": "b3a30a80",
   "metadata": {},
   "outputs": [],
   "source": [
    "df['only_date']=df['date'].dt.date"
   ]
  },
  {
   "cell_type": "code",
   "execution_count": null,
   "id": "03353b7e",
   "metadata": {},
   "outputs": [],
   "source": [
    "daily_timeline=df.groupby('only_date').count()['message'].reset_index()"
   ]
  },
  {
   "cell_type": "code",
   "execution_count": null,
   "id": "aa42fedf",
   "metadata": {},
   "outputs": [],
   "source": [
    "plt.figure(figsize=(18,10))\n",
    "plt.plot(daily_timeline['only_date'],daily_timeline['message'])"
   ]
  },
  {
   "cell_type": "code",
   "execution_count": null,
   "id": "b86a91e7",
   "metadata": {},
   "outputs": [],
   "source": [
    "df['day_name']=df['date'].dt.day_name()"
   ]
  },
  {
   "cell_type": "code",
   "execution_count": null,
   "id": "99d4e2c5",
   "metadata": {},
   "outputs": [],
   "source": [
    "day_timeline=df.groupby('day_name').count()['message'].reset_index()"
   ]
  },
  {
   "cell_type": "code",
   "execution_count": null,
   "id": "b30aa186",
   "metadata": {},
   "outputs": [],
   "source": [
    "plt.figure(figsize=(18,10))\n",
    "plt.plot(day_timeline['day_name'],day_timeline['message'])"
   ]
  },
  {
   "cell_type": "code",
   "execution_count": null,
   "id": "d417ac8f",
   "metadata": {},
   "outputs": [],
   "source": [
    "df['day_name'].value_counts()"
   ]
  },
  {
   "cell_type": "code",
   "execution_count": null,
   "id": "1e26db24",
   "metadata": {},
   "outputs": [],
   "source": [
    "df.head()"
   ]
  },
  {
   "cell_type": "code",
   "execution_count": null,
   "id": "f103ee9d",
   "metadata": {},
   "outputs": [],
   "source": [
    "period=[]\n",
    "for hour in df[['day_name','hour']]['hour']:\n",
    "    if hour==23:\n",
    "        period.append(str(hour)+\"-\"+str('00'))\n",
    "    elif hour==0:\n",
    "        period.append(str('00')+\"-\"+str(hour+1))\n",
    "    else:\n",
    "        period.append(str(hour)+\"-\"+str(hour+1))"
   ]
  },
  {
   "cell_type": "code",
   "execution_count": null,
   "id": "776749e4",
   "metadata": {},
   "outputs": [],
   "source": [
    "df['period']=period"
   ]
  },
  {
   "cell_type": "code",
   "execution_count": null,
   "id": "102b1400",
   "metadata": {},
   "outputs": [],
   "source": [
    "df.sample(5)"
   ]
  },
  {
   "cell_type": "code",
   "execution_count": null,
   "id": "4cd19e78",
   "metadata": {},
   "outputs": [],
   "source": [
    "import seaborn as sns\n",
    "plt.figure(figsize=(20,6))\n",
    "sns.heatmap(df.pivot_table(index='day_name',columns='period',values='message',aggfunc='count').fillna(0))\n",
    "plt.yticks(rotation='horizontal')\n",
    "plt.show()"
   ]
  },
  {
   "cell_type": "code",
   "execution_count": null,
   "id": "5d3e0df4",
   "metadata": {},
   "outputs": [],
   "source": [
    "df.pivot_table(index='day_name',columns='period',values='message',aggfunc='count').fillna(0)"
   ]
  },
  {
   "cell_type": "code",
   "execution_count": null,
   "id": "9c93b52f",
   "metadata": {},
   "outputs": [],
   "source": []
  }
 ],
 "metadata": {
  "kernelspec": {
   "display_name": "Python 3 (ipykernel)",
   "language": "python",
   "name": "python3"
  },
  "language_info": {
   "codemirror_mode": {
    "name": "ipython",
    "version": 3
   },
   "file_extension": ".py",
   "mimetype": "text/x-python",
   "name": "python",
   "nbconvert_exporter": "python",
   "pygments_lexer": "ipython3",
   "version": "3.11.3"
  }
 },
 "nbformat": 4,
 "nbformat_minor": 5
}
